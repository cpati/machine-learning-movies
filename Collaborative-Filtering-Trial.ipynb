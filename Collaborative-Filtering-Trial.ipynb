{
 "cells": [
  {
   "cell_type": "code",
   "execution_count": 2,
   "metadata": {},
   "outputs": [
    {
     "data": {
      "text/html": [
       "<div>\n",
       "<style scoped>\n",
       "    .dataframe tbody tr th:only-of-type {\n",
       "        vertical-align: middle;\n",
       "    }\n",
       "\n",
       "    .dataframe tbody tr th {\n",
       "        vertical-align: top;\n",
       "    }\n",
       "\n",
       "    .dataframe thead th {\n",
       "        text-align: right;\n",
       "    }\n",
       "</style>\n",
       "<table border=\"1\" class=\"dataframe\">\n",
       "  <thead>\n",
       "    <tr style=\"text-align: right;\">\n",
       "      <th></th>\n",
       "      <th>User_id</th>\n",
       "      <th>Movie_id</th>\n",
       "      <th>Ratings</th>\n",
       "      <th>Timestamp</th>\n",
       "    </tr>\n",
       "  </thead>\n",
       "  <tbody>\n",
       "    <tr>\n",
       "      <th>0</th>\n",
       "      <td>1</td>\n",
       "      <td>1193</td>\n",
       "      <td>5</td>\n",
       "      <td>978300760</td>\n",
       "    </tr>\n",
       "    <tr>\n",
       "      <th>1</th>\n",
       "      <td>1</td>\n",
       "      <td>661</td>\n",
       "      <td>3</td>\n",
       "      <td>978302109</td>\n",
       "    </tr>\n",
       "    <tr>\n",
       "      <th>2</th>\n",
       "      <td>1</td>\n",
       "      <td>914</td>\n",
       "      <td>3</td>\n",
       "      <td>978301968</td>\n",
       "    </tr>\n",
       "    <tr>\n",
       "      <th>3</th>\n",
       "      <td>1</td>\n",
       "      <td>3408</td>\n",
       "      <td>4</td>\n",
       "      <td>978300275</td>\n",
       "    </tr>\n",
       "    <tr>\n",
       "      <th>4</th>\n",
       "      <td>1</td>\n",
       "      <td>2355</td>\n",
       "      <td>5</td>\n",
       "      <td>978824291</td>\n",
       "    </tr>\n",
       "  </tbody>\n",
       "</table>\n",
       "</div>"
      ],
      "text/plain": [
       "   User_id  Movie_id  Ratings  Timestamp\n",
       "0        1      1193        5  978300760\n",
       "1        1       661        3  978302109\n",
       "2        1       914        3  978301968\n",
       "3        1      3408        4  978300275\n",
       "4        1      2355        5  978824291"
      ]
     },
     "execution_count": 2,
     "metadata": {},
     "output_type": "execute_result"
    }
   ],
   "source": [
    "import pandas as pd\n",
    "use_cols = [\"User_id\",\"Movie_id\",\"Ratings\",\"Timestamp\"]\n",
    "df = pd.read_csv('/Users/himangini/Desktop/CMPE-257/ml-1m/ratings.dat', sep='::', names=use_cols, engine='python')\n",
    "df.head(5)"
   ]
  },
  {
   "cell_type": "code",
   "execution_count": 3,
   "metadata": {},
   "outputs": [
    {
     "data": {
      "text/plain": [
       "(20000, 4)"
      ]
     },
     "execution_count": 3,
     "metadata": {},
     "output_type": "execute_result"
    }
   ],
   "source": [
    "df2 = df.sample(n=20000)\n",
    "df2.shape"
   ]
  },
  {
   "cell_type": "code",
   "execution_count": 4,
   "metadata": {},
   "outputs": [
    {
     "data": {
      "text/plain": [
       "<bound method DataFrame.info of         User_id  Movie_id  Ratings   Timestamp\n",
       "609858     3696       431        3   966303314\n",
       "638690     3841      2949        5   965995322\n",
       "51119       337      3254        2   976348492\n",
       "779847     4658         9        1   963967706\n",
       "855733     5138      2644        3   962062007\n",
       "33142       224       300        4   976833937\n",
       "729471     4362      2410        2   965187800\n",
       "722198     4323      2890        5   965250667\n",
       "976116     5886      2058        3   957485795\n",
       "963263     5809      2109        4   957987343\n",
       "701424     4204       318        5   965321530\n",
       "760422     4517      2746        4   974438652\n",
       "381741     2231      3534        4   974607316\n",
       "445060     2745      2091        3   973215970\n",
       "175780     1112      1035        5   974942957\n",
       "59074       402      2262        4   976296134\n",
       "158970     1016      2708        4   975009476\n",
       "339532     2000       364        4   974679762\n",
       "244646     1473      1876        3   974757564\n",
       "972822     5862       474        5   957670938\n",
       "698623     4178      3418        3   965331448\n",
       "151733      975      3706        4   975123221\n",
       "669216     4022      3728        3   965524208\n",
       "393759     2318      1214        3   974477404\n",
       "887933     5364      3308        2   960523515\n",
       "52926       349       923        4  1032115812\n",
       "464597     2863      2427        4   972503297\n",
       "489009     3011      1175        5  1021398138\n",
       "282748     1694       327        4   974709337\n",
       "705768     4227      1707        1   965326019\n",
       "...         ...       ...      ...         ...\n",
       "201454     1242       249        3   976307633\n",
       "377455     2203       360        4   974605541\n",
       "823498     4950      2683        4   962641448\n",
       "26882       191      1608        4   977026797\n",
       "361102     2106       357        3   989518510\n",
       "56591       379       914        5   976302527\n",
       "345263     2025       780        5   974672924\n",
       "707937     4242      3253        2   965312536\n",
       "650156     3917      2542        5   965740565\n",
       "683323     4088      3081        3   965429638\n",
       "860543     5173      2384        1   961863626\n",
       "430873     2627      1284        4   973629438\n",
       "214102     1300      2188        3   974788807\n",
       "942354     5684      1349        5   958605418\n",
       "67664       454      1259        2  1025587057\n",
       "615551     3727      1694        3   966219237\n",
       "586140     3578      3489        1   966712046\n",
       "833838     5013      3147        3   962584276\n",
       "683831     4089      2458        3   965537576\n",
       "295308     1753      1556        1   974703833\n",
       "628297     3806      2288        3   965965727\n",
       "113312      735      2125        3   975479342\n",
       "1974         18      2139        5   978154798\n",
       "113889      738      3753        5   976233104\n",
       "142941      922      2686        3   975212533\n",
       "447435     2756       367        2   985995125\n",
       "480292     2946       350        3   971276012\n",
       "795921     4770      2716        4   963078174\n",
       "710383     4260      3752        1   965305351\n",
       "770837     4592      3324        1   964303521\n",
       "\n",
       "[20000 rows x 4 columns]>"
      ]
     },
     "execution_count": 4,
     "metadata": {},
     "output_type": "execute_result"
    }
   ],
   "source": [
    "df2.info"
   ]
  },
  {
   "cell_type": "code",
   "execution_count": 5,
   "metadata": {},
   "outputs": [],
   "source": [
    "from sklearn.model_selection import train_test_split\n",
    "train_data, test_data = train_test_split(df2, test_size=0.2)"
   ]
  },
  {
   "cell_type": "code",
   "execution_count": 6,
   "metadata": {},
   "outputs": [
    {
     "name": "stderr",
     "output_type": "stream",
     "text": [
      "/anaconda3/lib/python3.6/site-packages/ipykernel_launcher.py:2: FutureWarning: Method .as_matrix will be removed in a future version. Use .values instead.\n",
      "  \n",
      "/anaconda3/lib/python3.6/site-packages/ipykernel_launcher.py:3: FutureWarning: Method .as_matrix will be removed in a future version. Use .values instead.\n",
      "  This is separate from the ipykernel package so we can avoid doing imports until\n"
     ]
    }
   ],
   "source": [
    "# Create two user-item matrices, one for training and another for testing\n",
    "train_data_matrix = train_data.as_matrix(columns = ['User_id', 'Movie_id', 'Ratings'])\n",
    "test_data_matrix = test_data.as_matrix(columns = ['User_id', 'Movie_id', 'Ratings'])"
   ]
  },
  {
   "cell_type": "code",
   "execution_count": 7,
   "metadata": {},
   "outputs": [],
   "source": [
    "from sklearn.metrics.pairwise import pairwise_distances\n",
    "import numpy as np\n",
    "# User Similarity Matrix\n",
    "user_correlation = 1 - pairwise_distances(train_data, metric='correlation')\n",
    "user_correlation[np.isnan(user_correlation)] = 0"
   ]
  },
  {
   "cell_type": "code",
   "execution_count": 8,
   "metadata": {},
   "outputs": [],
   "source": [
    "# Item Similarity Matrix\n",
    "item_correlation = 1 - pairwise_distances(train_data_matrix.T, metric='correlation')\n",
    "item_correlation[np.isnan(item_correlation)] = 0"
   ]
  },
  {
   "cell_type": "code",
   "execution_count": 9,
   "metadata": {},
   "outputs": [],
   "source": [
    "# Function to predict ratings\n",
    "def predict(ratings, similarity, type='user'):\n",
    "    if type == 'user':\n",
    "        mean_user_rating = ratings.mean(axis=1)\n",
    "        # Use np.newaxis so that mean_user_rating has same format as ratings\n",
    "        ratings_diff = (ratings - mean_user_rating[:, np.newaxis])\n",
    "        pred = mean_user_rating[:, np.newaxis] + similarity.dot(ratings_diff) / np.array([np.abs(similarity).sum(axis=1)]).T\n",
    "    elif type == 'item':\n",
    "        pred = ratings.dot(similarity) / np.array([np.abs(similarity).sum(axis=1)])\n",
    "    return pred"
   ]
  },
  {
   "cell_type": "code",
   "execution_count": 10,
   "metadata": {},
   "outputs": [],
   "source": [
    "# Predict ratings on the training data with both similarity score\n",
    "user_prediction = predict(train_data_matrix, user_correlation, type='user')\n",
    "item_prediction = predict(train_data_matrix, item_correlation, type='item')"
   ]
  },
  {
   "cell_type": "code",
   "execution_count": 13,
   "metadata": {},
   "outputs": [],
   "source": [
    "from math import sqrt\n",
    "from sklearn.metrics import mean_squared_error\n",
    "# Function to calculate RMSE\n",
    "def rmse(pred, actual):\n",
    "    # Ignore nonzero terms.\n",
    "    pred = pred[actual.nonzero()].flatten()\n",
    "    actual = actual[actual.nonzero()].flatten()\n",
    "    return sqrt(mean_squared_error(pred, actual))"
   ]
  },
  {
   "cell_type": "code",
   "execution_count": 14,
   "metadata": {},
   "outputs": [
    {
     "name": "stdout",
     "output_type": "stream",
     "text": [
      "User-based CF RMSE: 967.7100236374531\n",
      "Item-based CF RMSE: 106.22116150640953\n"
     ]
    }
   ],
   "source": [
    "# RMSE on the train data\n",
    "print('User-based CF RMSE: ' + str(rmse(user_prediction, train_data_matrix)))\n",
    "print('Item-based CF RMSE: ' + str(rmse(item_prediction, train_data_matrix)))"
   ]
  },
  {
   "cell_type": "code",
   "execution_count": null,
   "metadata": {},
   "outputs": [],
   "source": []
  }
 ],
 "metadata": {
  "kernelspec": {
   "display_name": "Python 3",
   "language": "python",
   "name": "python3"
  },
  "language_info": {
   "codemirror_mode": {
    "name": "ipython",
    "version": 3
   },
   "file_extension": ".py",
   "mimetype": "text/x-python",
   "name": "python",
   "nbconvert_exporter": "python",
   "pygments_lexer": "ipython3",
   "version": "3.6.5"
  }
 },
 "nbformat": 4,
 "nbformat_minor": 2
}
