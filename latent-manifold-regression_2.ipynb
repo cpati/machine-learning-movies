{
 "cells": [
  {
   "cell_type": "code",
   "execution_count": 1,
   "metadata": {},
   "outputs": [],
   "source": [
    "# Dataset\n",
    "# u.data - 100000 ratings by 943 users on 1682 items - user id | item id | rating | timestamp \n",
    "# u.item - Information about the items (movies) - movie id | movie title | release date | video release date |\n",
    "        # IMDb URL | unknown | Action | Adventure | Animation |Children's | Comedy | Crime | Documentary | Drama | Fantasy |\n",
    "        # Film-Noir | Horror | Musical | Mystery | Romance | Sci-Fi |Thriller | War | Western |\n",
    "# u.genre - A list of the genres.\n",
    "# u.user  - Demographic information about the users - user id | age | gender | occupation | zip code\n",
    "# u.occupation - A list of the occupations"
   ]
  },
  {
   "cell_type": "code",
   "execution_count": 48,
   "metadata": {},
   "outputs": [],
   "source": [
    "import pandas as pd;\n",
    "import numpy as np;"
   ]
  },
  {
   "cell_type": "code",
   "execution_count": 49,
   "metadata": {},
   "outputs": [
    {
     "name": "stdout",
     "output_type": "stream",
     "text": [
      "(100000, 4)\n"
     ]
    }
   ],
   "source": [
    "# Create panda data frame for u.data\n",
    "user_rating_data = pd.read_csv('u.data', delim_whitespace=True, header=None)\n",
    "user_rating_data.columns = [\"user_id\", \"movie_id\", \"ratings\", \"timestamp\"]\n",
    "print(user_rating_data.shape)"
   ]
  },
  {
   "cell_type": "code",
   "execution_count": 50,
   "metadata": {},
   "outputs": [
    {
     "data": {
      "text/plain": [
       "array([1, 2, 3, 4, 5])"
      ]
     },
     "execution_count": 50,
     "metadata": {},
     "output_type": "execute_result"
    }
   ],
   "source": [
    "np.unique(user_rating_data['ratings'])"
   ]
  },
  {
   "cell_type": "code",
   "execution_count": 51,
   "metadata": {},
   "outputs": [
    {
     "name": "stdout",
     "output_type": "stream",
     "text": [
      "(943, 5)\n"
     ]
    }
   ],
   "source": [
    "# Create panda dataframe for u.user\n",
    "user_data=pd.read_csv('u.user',sep='|',header=None)\n",
    "user_data.columns=['user_id','age','gender','occupation','zip_code']\n",
    "print(user_data.shape)"
   ]
  },
  {
   "cell_type": "code",
   "execution_count": 52,
   "metadata": {},
   "outputs": [
    {
     "data": {
      "text/html": [
       "<div>\n",
       "<style scoped>\n",
       "    .dataframe tbody tr th:only-of-type {\n",
       "        vertical-align: middle;\n",
       "    }\n",
       "\n",
       "    .dataframe tbody tr th {\n",
       "        vertical-align: top;\n",
       "    }\n",
       "\n",
       "    .dataframe thead th {\n",
       "        text-align: right;\n",
       "    }\n",
       "</style>\n",
       "<table border=\"1\" class=\"dataframe\">\n",
       "  <thead>\n",
       "    <tr style=\"text-align: right;\">\n",
       "      <th></th>\n",
       "      <th>user_id</th>\n",
       "      <th>age</th>\n",
       "      <th>gender</th>\n",
       "      <th>occupation</th>\n",
       "      <th>zip_code</th>\n",
       "      <th>movie_id</th>\n",
       "      <th>ratings</th>\n",
       "      <th>timestamp</th>\n",
       "    </tr>\n",
       "  </thead>\n",
       "  <tbody>\n",
       "    <tr>\n",
       "      <th>0</th>\n",
       "      <td>1</td>\n",
       "      <td>24</td>\n",
       "      <td>M</td>\n",
       "      <td>technician</td>\n",
       "      <td>85711</td>\n",
       "      <td>61</td>\n",
       "      <td>4</td>\n",
       "      <td>878542420</td>\n",
       "    </tr>\n",
       "    <tr>\n",
       "      <th>1</th>\n",
       "      <td>1</td>\n",
       "      <td>24</td>\n",
       "      <td>M</td>\n",
       "      <td>technician</td>\n",
       "      <td>85711</td>\n",
       "      <td>189</td>\n",
       "      <td>3</td>\n",
       "      <td>888732928</td>\n",
       "    </tr>\n",
       "    <tr>\n",
       "      <th>2</th>\n",
       "      <td>1</td>\n",
       "      <td>24</td>\n",
       "      <td>M</td>\n",
       "      <td>technician</td>\n",
       "      <td>85711</td>\n",
       "      <td>33</td>\n",
       "      <td>4</td>\n",
       "      <td>878542699</td>\n",
       "    </tr>\n",
       "    <tr>\n",
       "      <th>3</th>\n",
       "      <td>1</td>\n",
       "      <td>24</td>\n",
       "      <td>M</td>\n",
       "      <td>technician</td>\n",
       "      <td>85711</td>\n",
       "      <td>160</td>\n",
       "      <td>4</td>\n",
       "      <td>875072547</td>\n",
       "    </tr>\n",
       "    <tr>\n",
       "      <th>4</th>\n",
       "      <td>1</td>\n",
       "      <td>24</td>\n",
       "      <td>M</td>\n",
       "      <td>technician</td>\n",
       "      <td>85711</td>\n",
       "      <td>20</td>\n",
       "      <td>4</td>\n",
       "      <td>887431883</td>\n",
       "    </tr>\n",
       "  </tbody>\n",
       "</table>\n",
       "</div>"
      ],
      "text/plain": [
       "   user_id  age gender  occupation zip_code  movie_id  ratings  timestamp\n",
       "0        1   24      M  technician    85711        61        4  878542420\n",
       "1        1   24      M  technician    85711       189        3  888732928\n",
       "2        1   24      M  technician    85711        33        4  878542699\n",
       "3        1   24      M  technician    85711       160        4  875072547\n",
       "4        1   24      M  technician    85711        20        4  887431883"
      ]
     },
     "execution_count": 52,
     "metadata": {},
     "output_type": "execute_result"
    }
   ],
   "source": [
    "# Merge u.data and u.user and create a new data frame\n",
    "data_user_movies=pd.merge(user_data,user_rating_data,on='user_id')\n",
    "data_user_movies.head()"
   ]
  },
  {
   "cell_type": "code",
   "execution_count": 53,
   "metadata": {
    "scrolled": false
   },
   "outputs": [
    {
     "data": {
      "text/html": [
       "<div>\n",
       "<style scoped>\n",
       "    .dataframe tbody tr th:only-of-type {\n",
       "        vertical-align: middle;\n",
       "    }\n",
       "\n",
       "    .dataframe tbody tr th {\n",
       "        vertical-align: top;\n",
       "    }\n",
       "\n",
       "    .dataframe thead th {\n",
       "        text-align: right;\n",
       "    }\n",
       "</style>\n",
       "<table border=\"1\" class=\"dataframe\">\n",
       "  <thead>\n",
       "    <tr style=\"text-align: right;\">\n",
       "      <th></th>\n",
       "      <th>user_id</th>\n",
       "      <th>age</th>\n",
       "      <th>gender</th>\n",
       "      <th>occupation</th>\n",
       "      <th>zip_code</th>\n",
       "      <th>movie_id</th>\n",
       "      <th>ratings</th>\n",
       "      <th>timestamp</th>\n",
       "    </tr>\n",
       "  </thead>\n",
       "  <tbody>\n",
       "    <tr>\n",
       "      <th>0</th>\n",
       "      <td>0</td>\n",
       "      <td>14</td>\n",
       "      <td>1</td>\n",
       "      <td>19</td>\n",
       "      <td>622</td>\n",
       "      <td>60</td>\n",
       "      <td>3</td>\n",
       "      <td>8980</td>\n",
       "    </tr>\n",
       "    <tr>\n",
       "      <th>1</th>\n",
       "      <td>0</td>\n",
       "      <td>14</td>\n",
       "      <td>1</td>\n",
       "      <td>19</td>\n",
       "      <td>622</td>\n",
       "      <td>188</td>\n",
       "      <td>2</td>\n",
       "      <td>38632</td>\n",
       "    </tr>\n",
       "    <tr>\n",
       "      <th>2</th>\n",
       "      <td>0</td>\n",
       "      <td>14</td>\n",
       "      <td>1</td>\n",
       "      <td>19</td>\n",
       "      <td>622</td>\n",
       "      <td>32</td>\n",
       "      <td>3</td>\n",
       "      <td>8989</td>\n",
       "    </tr>\n",
       "    <tr>\n",
       "      <th>3</th>\n",
       "      <td>0</td>\n",
       "      <td>14</td>\n",
       "      <td>1</td>\n",
       "      <td>19</td>\n",
       "      <td>622</td>\n",
       "      <td>159</td>\n",
       "      <td>3</td>\n",
       "      <td>1406</td>\n",
       "    </tr>\n",
       "    <tr>\n",
       "      <th>4</th>\n",
       "      <td>0</td>\n",
       "      <td>14</td>\n",
       "      <td>1</td>\n",
       "      <td>19</td>\n",
       "      <td>622</td>\n",
       "      <td>19</td>\n",
       "      <td>3</td>\n",
       "      <td>35337</td>\n",
       "    </tr>\n",
       "  </tbody>\n",
       "</table>\n",
       "</div>"
      ],
      "text/plain": [
       "   user_id  age  gender  occupation  zip_code  movie_id  ratings  timestamp\n",
       "0        0   14       1          19       622        60        3       8980\n",
       "1        0   14       1          19       622       188        2      38632\n",
       "2        0   14       1          19       622        32        3       8989\n",
       "3        0   14       1          19       622       159        3       1406\n",
       "4        0   14       1          19       622        19        3      35337"
      ]
     },
     "execution_count": 53,
     "metadata": {},
     "output_type": "execute_result"
    }
   ],
   "source": [
    "# Converting categorical values to numerical\n",
    "#data_user_movies['ratings']=data_user_movies['ratings'].map(lambda x: 1 if x>2 else 0)\n",
    "from sklearn.preprocessing import LabelEncoder\n",
    "data_user_movies=data_user_movies.apply(LabelEncoder().fit_transform)\n",
    "data_user_movies.head()"
   ]
  },
  {
   "cell_type": "code",
   "execution_count": 54,
   "metadata": {},
   "outputs": [
    {
     "data": {
      "text/plain": [
       "array([ 0,  1,  2,  3,  4,  5,  6,  7,  8,  9, 10, 11, 12, 13, 14, 15, 16,\n",
       "       17, 18, 19, 20, 21, 22, 23, 24, 25, 26, 27, 28, 29, 30, 31, 32, 33,\n",
       "       34, 35, 36, 37, 38, 39, 40, 41, 42, 43, 44, 45, 46, 47, 48, 49, 50,\n",
       "       51, 52, 53, 54, 55, 56, 57, 58, 59, 60])"
      ]
     },
     "execution_count": 54,
     "metadata": {},
     "output_type": "execute_result"
    }
   ],
   "source": [
    "np.unique(data_user_movies['age'])"
   ]
  },
  {
   "cell_type": "code",
   "execution_count": 55,
   "metadata": {},
   "outputs": [
    {
     "data": {
      "image/png": "[encoded data removed]",
      "text/plain": [
       "<Figure size 432x288 with 1 Axes>"
      ]
     },
     "metadata": {},
     "output_type": "display_data"
    }
   ],
   "source": [
    "# Plot linerar regression to see if there is any relationship between age and ratings\n",
    "from sklearn import linear_model\n",
    "from matplotlib import pyplot as plt\n",
    "linear_reg = linear_model.LinearRegression() \n",
    "age_data=pd.DataFrame(data_user_movies['age'])\n",
    "ratings_data=data_user_movies['ratings']\n",
    "ratings_data.head()\n",
    "linear_reg.fit(age_data, ratings_data)\n",
    "plt.scatter(age_data, ratings_data,color='g')\n",
    "plt.plot(age_data, linear_reg.predict(age_data),color='k')\n",
    "plt.show()"
   ]
  },
  {
   "cell_type": "code",
   "execution_count": 56,
   "metadata": {},
   "outputs": [],
   "source": [
    "# DecisionTree Classification to predict rating\n",
    "from sklearn.tree import DecisionTreeClassifier\n",
    "import numpy as np\n",
    "from sklearn.preprocessing import LabelEncoder\n",
    "X=data_user_movies[['age','gender','zip_code','movie_id']].values;\n",
    "y=data_user_movies[['ratings']].values;\n",
    "dtree_model = DecisionTreeClassifier(max_depth = 5).fit(X, y)\n",
    "dtree_predictions = dtree_model.predict(X)"
   ]
  },
  {
   "cell_type": "code",
   "execution_count": 57,
   "metadata": {},
   "outputs": [
    {
     "data": {
      "text/plain": [
       "array([0, 2, 3, 4])"
      ]
     },
     "execution_count": 57,
     "metadata": {},
     "output_type": "execute_result"
    }
   ],
   "source": [
    "np.unique(dtree_predictions)"
   ]
  },
  {
   "cell_type": "code",
   "execution_count": 58,
   "metadata": {},
   "outputs": [
    {
     "name": "stdout",
     "output_type": "stream",
     "text": [
      "0.36103\n"
     ]
    }
   ],
   "source": [
    "accuracy = dtree_model.score(X, y)\n",
    "print(accuracy)"
   ]
  },
  {
   "cell_type": "code",
   "execution_count": 59,
   "metadata": {},
   "outputs": [],
   "source": [
    "# Naive bayes Classification to predict rating\n",
    "from sklearn.naive_bayes import GaussianNB\n",
    "gnb = GaussianNB().fit(X, y.ravel())\n",
    "gnb_predictions = gnb.predict(X)"
   ]
  },
  {
   "cell_type": "code",
   "execution_count": 60,
   "metadata": {},
   "outputs": [
    {
     "data": {
      "text/plain": [
       "array([0, 1, 2, 3])"
      ]
     },
     "execution_count": 60,
     "metadata": {},
     "output_type": "execute_result"
    }
   ],
   "source": [
    "np.unique(gnb_predictions)"
   ]
  },
  {
   "cell_type": "code",
   "execution_count": 16,
   "metadata": {},
   "outputs": [
    {
     "name": "stdout",
     "output_type": "stream",
     "text": [
      "0.34915\n"
     ]
    }
   ],
   "source": [
    "# accuracy on X_test\n",
    "accuracy = gnb.score(X, y)\n",
    "print(accuracy)"
   ]
  },
  {
   "cell_type": "code",
   "execution_count": 38,
   "metadata": {},
   "outputs": [
    {
     "name": "stdout",
     "output_type": "stream",
     "text": [
      "2020\n"
     ]
    }
   ],
   "source": [
    "# function to bucket movie years\n",
    "def movie_bucket(year):\n",
    "    year=int(year);\n",
    "    if (year<1970):\n",
    "      return 1960;\n",
    "    elif (year>1970 and year<1980):\n",
    "      return 1980;\n",
    "    elif (year>1980 and year<1990):\n",
    "      return 1990;\n",
    "    elif (year>1990 and year<2000):\n",
    "      return 2000;\n",
    "    elif (year>2000 and year<2010):\n",
    "      return 2010;\n",
    "    elif (year>2010):\n",
    "      return 2020\n",
    "\n",
    "# validating the function\n",
    "str1=\"01-Jan-2011\"\n",
    "print(movie_bucket(int(str1.split('-')[2])));"
   ]
  },
  {
   "cell_type": "code",
   "execution_count": 1,
   "metadata": {},
   "outputs": [
    {
     "ename": "NameError",
     "evalue": "name 'pd' is not defined",
     "output_type": "error",
     "traceback": [
      "\u001b[0;31m---------------------------------------------------------------------------\u001b[0m",
      "\u001b[0;31mNameError\u001b[0m                                 Traceback (most recent call last)",
      "\u001b[0;32m<ipython-input-1-b4103d346f29>\u001b[0m in \u001b[0;36m<module>\u001b[0;34m()\u001b[0m\n\u001b[1;32m      1\u001b[0m \u001b[0;31m# Creating panda dataframe for u.item\u001b[0m\u001b[0;34m\u001b[0m\u001b[0;34m\u001b[0m\u001b[0m\n\u001b[0;32m----> 2\u001b[0;31m \u001b[0mmovie_data\u001b[0m\u001b[0;34m=\u001b[0m\u001b[0mpd\u001b[0m\u001b[0;34m.\u001b[0m\u001b[0mread_csv\u001b[0m\u001b[0;34m(\u001b[0m\u001b[0;34m'u.item'\u001b[0m\u001b[0;34m,\u001b[0m\u001b[0msep\u001b[0m\u001b[0;34m=\u001b[0m\u001b[0;34m'|'\u001b[0m\u001b[0;34m,\u001b[0m\u001b[0mheader\u001b[0m\u001b[0;34m=\u001b[0m\u001b[0;32mNone\u001b[0m\u001b[0;34m,\u001b[0m\u001b[0mencoding\u001b[0m\u001b[0;34m=\u001b[0m\u001b[0;34m'latin-1'\u001b[0m\u001b[0;34m)\u001b[0m\u001b[0;34m\u001b[0m\u001b[0m\n\u001b[0m\u001b[1;32m      3\u001b[0m \u001b[0;31m#movie_data=movie_data.iloc[:,0:6]\u001b[0m\u001b[0;34m\u001b[0m\u001b[0;34m\u001b[0m\u001b[0m\n\u001b[1;32m      4\u001b[0m \u001b[0mmovie_data\u001b[0m\u001b[0;34m.\u001b[0m\u001b[0mcolumns\u001b[0m\u001b[0;34m=\u001b[0m\u001b[0;34m[\u001b[0m\u001b[0;34m'movie_id'\u001b[0m\u001b[0;34m,\u001b[0m\u001b[0;34m'movie_title'\u001b[0m\u001b[0;34m,\u001b[0m\u001b[0;34m'release_date'\u001b[0m\u001b[0;34m,\u001b[0m\u001b[0;34m'video_release_date'\u001b[0m\u001b[0;34m,\u001b[0m\u001b[0;34m'imdb_url'\u001b[0m\u001b[0;34m,\u001b[0m\u001b[0;34m'unknown'\u001b[0m\u001b[0;34m,\u001b[0m\u001b[0;34m'Action'\u001b[0m\u001b[0;34m,\u001b[0m\u001b[0;34m'Adventure'\u001b[0m\u001b[0;34m,\u001b[0m\u001b[0;34m'Animation'\u001b[0m\u001b[0;34m,\u001b[0m\u001b[0;34m'Children'\u001b[0m\u001b[0;34m,\u001b[0m\u001b[0;34m'Comedy'\u001b[0m\u001b[0;34m,\u001b[0m\u001b[0;34m'Crime'\u001b[0m\u001b[0;34m,\u001b[0m\u001b[0;34m'Documentary'\u001b[0m\u001b[0;34m,\u001b[0m\u001b[0;34m'Drama'\u001b[0m\u001b[0;34m,\u001b[0m\u001b[0;34m'Fantasy'\u001b[0m\u001b[0;34m,\u001b[0m\u001b[0;34m'Film-Noir'\u001b[0m\u001b[0;34m,\u001b[0m\u001b[0;34m'Horror'\u001b[0m\u001b[0;34m,\u001b[0m\u001b[0;34m'Musical'\u001b[0m\u001b[0;34m,\u001b[0m\u001b[0;34m'Mystery'\u001b[0m\u001b[0;34m,\u001b[0m\u001b[0;34m'Romance'\u001b[0m\u001b[0;34m,\u001b[0m\u001b[0;34m'Sci-Fi'\u001b[0m\u001b[0;34m,\u001b[0m\u001b[0;34m'Thriller'\u001b[0m\u001b[0;34m,\u001b[0m\u001b[0;34m'War'\u001b[0m\u001b[0;34m,\u001b[0m\u001b[0;34m'Western'\u001b[0m\u001b[0;34m]\u001b[0m\u001b[0;34m\u001b[0m\u001b[0m\n\u001b[1;32m      5\u001b[0m \u001b[0mmovie_data\u001b[0m\u001b[0;34m.\u001b[0m\u001b[0mdropna\u001b[0m\u001b[0;34m(\u001b[0m\u001b[0msubset\u001b[0m\u001b[0;34m=\u001b[0m\u001b[0;34m[\u001b[0m\u001b[0;34m\"release_date\"\u001b[0m\u001b[0;34m]\u001b[0m\u001b[0;34m,\u001b[0m\u001b[0minplace\u001b[0m\u001b[0;34m=\u001b[0m \u001b[0;32mTrue\u001b[0m\u001b[0;34m)\u001b[0m\u001b[0;34m\u001b[0m\u001b[0m\n",
      "\u001b[0;31mNameError\u001b[0m: name 'pd' is not defined"
     ]
    }
   ],
   "source": [
    "# Creating panda dataframe for u.item\n",
    "movie_data=pd.read_csv('u.item',sep='|',header=None,encoding='latin-1')\n",
    "#movie_data=movie_data.iloc[:,0:6]\n",
    "movie_data.columns=['movie_id','movie_title','release_date','video_release_date','imdb_url','unknown','Action','Adventure','Animation','Children','Comedy','Crime','Documentary','Drama','Fantasy','Film-Noir','Horror','Musical','Mystery','Romance','Sci-Fi','Thriller','War','Western']\n",
    "movie_data.dropna(subset=[\"release_date\"],inplace= True)\n",
    "movie_data['movie_decade']=movie_data['release_date'].str.split('-').str.get(2).apply(movie_bucket);\n",
    "movie_data.head()"
   ]
  },
  {
   "cell_type": "code",
   "execution_count": 20,
   "metadata": {},
   "outputs": [
    {
     "data": {
      "text/html": [
       "<div>\n",
       "<style scoped>\n",
       "    .dataframe tbody tr th:only-of-type {\n",
       "        vertical-align: middle;\n",
       "    }\n",
       "\n",
       "    .dataframe tbody tr th {\n",
       "        vertical-align: top;\n",
       "    }\n",
       "\n",
       "    .dataframe thead th {\n",
       "        text-align: right;\n",
       "    }\n",
       "</style>\n",
       "<table border=\"1\" class=\"dataframe\">\n",
       "  <thead>\n",
       "    <tr style=\"text-align: right;\">\n",
       "      <th></th>\n",
       "      <th>user_id</th>\n",
       "      <th>age</th>\n",
       "      <th>gender</th>\n",
       "      <th>occupation</th>\n",
       "      <th>zip_code</th>\n",
       "      <th>movie_id</th>\n",
       "      <th>ratings</th>\n",
       "      <th>timestamp</th>\n",
       "      <th>movie_title</th>\n",
       "      <th>release_date</th>\n",
       "      <th>...</th>\n",
       "      <th>Film-Noir</th>\n",
       "      <th>Horror</th>\n",
       "      <th>Musical</th>\n",
       "      <th>Mystery</th>\n",
       "      <th>Romance</th>\n",
       "      <th>Sci-Fi</th>\n",
       "      <th>Thriller</th>\n",
       "      <th>War</th>\n",
       "      <th>Western</th>\n",
       "      <th>movie_year</th>\n",
       "    </tr>\n",
       "  </thead>\n",
       "  <tbody>\n",
       "    <tr>\n",
       "      <th>0</th>\n",
       "      <td>0</td>\n",
       "      <td>14</td>\n",
       "      <td>1</td>\n",
       "      <td>19</td>\n",
       "      <td>622</td>\n",
       "      <td>60</td>\n",
       "      <td>3</td>\n",
       "      <td>8980</td>\n",
       "      <td>Three Colors: Blue (1993)</td>\n",
       "      <td>01-Jan-1993</td>\n",
       "      <td>...</td>\n",
       "      <td>0</td>\n",
       "      <td>0</td>\n",
       "      <td>0</td>\n",
       "      <td>0</td>\n",
       "      <td>0</td>\n",
       "      <td>0</td>\n",
       "      <td>0</td>\n",
       "      <td>0</td>\n",
       "      <td>0</td>\n",
       "      <td>2000.0</td>\n",
       "    </tr>\n",
       "    <tr>\n",
       "      <th>1</th>\n",
       "      <td>12</td>\n",
       "      <td>37</td>\n",
       "      <td>1</td>\n",
       "      <td>3</td>\n",
       "      <td>243</td>\n",
       "      <td>60</td>\n",
       "      <td>3</td>\n",
       "      <td>22895</td>\n",
       "      <td>Three Colors: Blue (1993)</td>\n",
       "      <td>01-Jan-1993</td>\n",
       "      <td>...</td>\n",
       "      <td>0</td>\n",
       "      <td>0</td>\n",
       "      <td>0</td>\n",
       "      <td>0</td>\n",
       "      <td>0</td>\n",
       "      <td>0</td>\n",
       "      <td>0</td>\n",
       "      <td>0</td>\n",
       "      <td>0</td>\n",
       "      <td>2000.0</td>\n",
       "    </tr>\n",
       "    <tr>\n",
       "      <th>2</th>\n",
       "      <td>17</td>\n",
       "      <td>25</td>\n",
       "      <td>0</td>\n",
       "      <td>13</td>\n",
       "      <td>297</td>\n",
       "      <td>60</td>\n",
       "      <td>3</td>\n",
       "      <td>17080</td>\n",
       "      <td>Three Colors: Blue (1993)</td>\n",
       "      <td>01-Jan-1993</td>\n",
       "      <td>...</td>\n",
       "      <td>0</td>\n",
       "      <td>0</td>\n",
       "      <td>0</td>\n",
       "      <td>0</td>\n",
       "      <td>0</td>\n",
       "      <td>0</td>\n",
       "      <td>0</td>\n",
       "      <td>0</td>\n",
       "      <td>0</td>\n",
       "      <td>2000.0</td>\n",
       "    </tr>\n",
       "    <tr>\n",
       "      <th>3</th>\n",
       "      <td>57</td>\n",
       "      <td>17</td>\n",
       "      <td>1</td>\n",
       "      <td>14</td>\n",
       "      <td>389</td>\n",
       "      <td>60</td>\n",
       "      <td>4</td>\n",
       "      <td>28992</td>\n",
       "      <td>Three Colors: Blue (1993)</td>\n",
       "      <td>01-Jan-1993</td>\n",
       "      <td>...</td>\n",
       "      <td>0</td>\n",
       "      <td>0</td>\n",
       "      <td>0</td>\n",
       "      <td>0</td>\n",
       "      <td>0</td>\n",
       "      <td>0</td>\n",
       "      <td>0</td>\n",
       "      <td>0</td>\n",
       "      <td>0</td>\n",
       "      <td>2000.0</td>\n",
       "    </tr>\n",
       "    <tr>\n",
       "      <th>4</th>\n",
       "      <td>58</td>\n",
       "      <td>39</td>\n",
       "      <td>1</td>\n",
       "      <td>3</td>\n",
       "      <td>81</td>\n",
       "      <td>60</td>\n",
       "      <td>3</td>\n",
       "      <td>37033</td>\n",
       "      <td>Three Colors: Blue (1993)</td>\n",
       "      <td>01-Jan-1993</td>\n",
       "      <td>...</td>\n",
       "      <td>0</td>\n",
       "      <td>0</td>\n",
       "      <td>0</td>\n",
       "      <td>0</td>\n",
       "      <td>0</td>\n",
       "      <td>0</td>\n",
       "      <td>0</td>\n",
       "      <td>0</td>\n",
       "      <td>0</td>\n",
       "      <td>2000.0</td>\n",
       "    </tr>\n",
       "  </tbody>\n",
       "</table>\n",
       "<p>5 rows × 32 columns</p>\n",
       "</div>"
      ],
      "text/plain": [
       "   user_id  age  gender  occupation  zip_code  movie_id  ratings  timestamp  \\\n",
       "0        0   14       1          19       622        60        3       8980   \n",
       "1       12   37       1           3       243        60        3      22895   \n",
       "2       17   25       0          13       297        60        3      17080   \n",
       "3       57   17       1          14       389        60        4      28992   \n",
       "4       58   39       1           3        81        60        3      37033   \n",
       "\n",
       "                 movie_title release_date     ...      Film-Noir Horror  \\\n",
       "0  Three Colors: Blue (1993)  01-Jan-1993     ...              0      0   \n",
       "1  Three Colors: Blue (1993)  01-Jan-1993     ...              0      0   \n",
       "2  Three Colors: Blue (1993)  01-Jan-1993     ...              0      0   \n",
       "3  Three Colors: Blue (1993)  01-Jan-1993     ...              0      0   \n",
       "4  Three Colors: Blue (1993)  01-Jan-1993     ...              0      0   \n",
       "\n",
       "   Musical  Mystery  Romance  Sci-Fi  Thriller  War  Western  movie_year  \n",
       "0        0        0        0       0         0    0        0      2000.0  \n",
       "1        0        0        0       0         0    0        0      2000.0  \n",
       "2        0        0        0       0         0    0        0      2000.0  \n",
       "3        0        0        0       0         0    0        0      2000.0  \n",
       "4        0        0        0       0         0    0        0      2000.0  \n",
       "\n",
       "[5 rows x 32 columns]"
      ]
     },
     "execution_count": 20,
     "metadata": {},
     "output_type": "execute_result"
    }
   ],
   "source": [
    "# merge u.user, u.data, u.item and create a new data frame\n",
    "data_user_movies_det=pd.merge(data_user_movies,movie_data,on='movie_id')\n",
    "data_user_movies_det.head()"
   ]
  },
  {
   "cell_type": "code",
   "execution_count": 21,
   "metadata": {},
   "outputs": [
    {
     "name": "stdout",
     "output_type": "stream",
     "text": [
      "Series([], Name: movie_year, dtype: float64)\n"
     ]
    }
   ],
   "source": [
    "data_user_movies_det.dropna(subset=['movie_year'],inplace=True)\n",
    "print(data_user_movies_det[data_user_movies_det['movie_year'].isna()]['movie_year'])"
   ]
  },
  {
   "cell_type": "code",
   "execution_count": 22,
   "metadata": {},
   "outputs": [],
   "source": [
    "X=data_user_movies_det[['age','gender','movie_year','unknown','Action','Adventure','Animation','Children','Comedy','Crime','Documentary','Drama','Fantasy','Film-Noir','Horror','Musical','Mystery','Romance','Sci-Fi','Thriller','War','Western']].values;\n",
    "y=data_user_movies_det[['ratings']].values;"
   ]
  },
  {
   "cell_type": "code",
   "execution_count": 23,
   "metadata": {},
   "outputs": [],
   "source": [
    "# running naive bayes on new data\n",
    "gnb = GaussianNB().fit(X, y.ravel())\n",
    "gnb_predictions = gnb.predict(X)"
   ]
  },
  {
   "cell_type": "code",
   "execution_count": 24,
   "metadata": {},
   "outputs": [
    {
     "data": {
      "text/plain": [
       "array([0, 1, 2, 3, 4])"
      ]
     },
     "execution_count": 24,
     "metadata": {},
     "output_type": "execute_result"
    }
   ],
   "source": [
    "np.unique(gnb_predictions)"
   ]
  },
  {
   "cell_type": "code",
   "execution_count": 25,
   "metadata": {},
   "outputs": [
    {
     "name": "stdout",
     "output_type": "stream",
     "text": [
      "0.30695689465811743\n"
     ]
    }
   ],
   "source": [
    "# accuracy on X_test\n",
    "accuracy = gnb.score(X, y)\n",
    "print(accuracy)"
   ]
  },
  {
   "cell_type": "code",
   "execution_count": 26,
   "metadata": {},
   "outputs": [],
   "source": [
    "# Running LogisticRegression on new data\n",
    "from sklearn.linear_model import LogisticRegression\n",
    "logisticRegr = LogisticRegression()\n",
    "logisticRegr.fit(X, y.ravel())\n",
    "lr_predictions = gnb.predict(X)"
   ]
  },
  {
   "cell_type": "code",
   "execution_count": 27,
   "metadata": {},
   "outputs": [
    {
     "name": "stdout",
     "output_type": "stream",
     "text": [
      "0.339403575201615\n"
     ]
    }
   ],
   "source": [
    "# accuracy\n",
    "accuracy = logisticRegr.score(X, y)\n",
    "print(accuracy)"
   ]
  },
  {
   "cell_type": "code",
   "execution_count": null,
   "metadata": {},
   "outputs": [],
   "source": [
    "# function to create a new feature liked based on user rating\n",
    "def like_identification(rating):\n",
    "        if(rating>3):\n",
    "            liked=1\n",
    "        else:\n",
    "            liked=0  \n",
    "        return liked;    \n",
    "print(like_identification(4))    "
   ]
  },
  {
   "cell_type": "code",
   "execution_count": 28,
   "metadata": {},
   "outputs": [
    {
     "data": {
      "text/plain": [
       "array([0, 1])"
      ]
     },
     "execution_count": 28,
     "metadata": {},
     "output_type": "execute_result"
    }
   ],
   "source": [
    "# Apply like_identification to new data set\n",
    "data_user_movies_det['ratings']=data_user_movies['ratings'].map(lambda x: like_identification(x))\n",
    "np.unique(data_user_movies_det['ratings'])"
   ]
  },
  {
   "cell_type": "code",
   "execution_count": 29,
   "metadata": {},
   "outputs": [],
   "source": [
    "# Running LogisticRegression to predict binary target\n",
    "from sklearn.linear_model import LogisticRegression\n",
    "logisticRegr = LogisticRegression()\n",
    "y=data_user_movies_det[['ratings']].values;\n",
    "logisticRegr.fit(X, y.ravel())\n",
    "lr_predictions = gnb.predict(X)"
   ]
  },
  {
   "cell_type": "code",
   "execution_count": 30,
   "metadata": {},
   "outputs": [
    {
     "name": "stdout",
     "output_type": "stream",
     "text": [
      "0.7882493227199984\n"
     ]
    }
   ],
   "source": [
    "# accuracy\n",
    "accuracy = logisticRegr.score(X, y)\n",
    "print(accuracy)"
   ]
  },
  {
   "cell_type": "code",
   "execution_count": 31,
   "metadata": {},
   "outputs": [],
   "source": [
    "# Running Naive beyes to predict binary target\n",
    "gnb = GaussianNB().fit(X, y.ravel())\n",
    "gnb_predictions = gnb.predict(X)"
   ]
  },
  {
   "cell_type": "code",
   "execution_count": 32,
   "metadata": {},
   "outputs": [
    {
     "data": {
      "text/plain": [
       "array([0, 1])"
      ]
     },
     "execution_count": 32,
     "metadata": {},
     "output_type": "execute_result"
    }
   ],
   "source": [
    "np.unique(gnb_predictions)"
   ]
  },
  {
   "cell_type": "code",
   "execution_count": 33,
   "metadata": {},
   "outputs": [
    {
     "name": "stdout",
     "output_type": "stream",
     "text": [
      "0.2735897409077121\n"
     ]
    }
   ],
   "source": [
    "# accuracy on X_test\n",
    "accuracy = gnb.score(X, y)\n",
    "print(accuracy)"
   ]
  }
 ],
 "metadata": {
  "kernelspec": {
   "display_name": "Python 3",
   "language": "python",
   "name": "python3"
  },
  "language_info": {
   "codemirror_mode": {
    "name": "ipython",
    "version": 3
   },
   "file_extension": ".py",
   "mimetype": "text/x-python",
   "name": "python",
   "nbconvert_exporter": "python",
   "pygments_lexer": "ipython3",
   "version": "3.6.5"
  }
 },
 "nbformat": 4,
 "nbformat_minor": 2
}
